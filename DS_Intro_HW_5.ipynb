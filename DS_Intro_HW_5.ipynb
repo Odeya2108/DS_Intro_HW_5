{
 "cells": [
  {
   "cell_type": "markdown",
   "id": "36ebd9ea",
   "metadata": {},
   "source": [
    "## Import"
   ]
  },
  {
   "cell_type": "code",
   "execution_count": 73,
   "id": "92282e48",
   "metadata": {},
   "outputs": [],
   "source": [
    "import os\n",
    "import pandas as pd\n",
    "import numpy as np\n",
    "import requests\n",
    "from bs4 import BeautifulSoup\n",
    "import urllib\n",
    "import json"
   ]
  },
  {
   "cell_type": "markdown",
   "id": "a7b335d1",
   "metadata": {},
   "source": [
    "# Import csv file"
   ]
  },
  {
   "cell_type": "code",
   "execution_count": 74,
   "id": "6ea41954",
   "metadata": {},
   "outputs": [
    {
     "data": {
      "text/html": [
       "<div>\n",
       "<style scoped>\n",
       "    .dataframe tbody tr th:only-of-type {\n",
       "        vertical-align: middle;\n",
       "    }\n",
       "\n",
       "    .dataframe tbody tr th {\n",
       "        vertical-align: top;\n",
       "    }\n",
       "\n",
       "    .dataframe thead th {\n",
       "        text-align: right;\n",
       "    }\n",
       "</style>\n",
       "<table border=\"1\" class=\"dataframe\">\n",
       "  <thead>\n",
       "    <tr style=\"text-align: right;\">\n",
       "      <th></th>\n",
       "      <th>city</th>\n",
       "      <th>city_LP</th>\n",
       "    </tr>\n",
       "  </thead>\n",
       "  <tbody>\n",
       "    <tr>\n",
       "      <th>0</th>\n",
       "      <td>Antalya</td>\n",
       "      <td>mediterranean-coast/antalya</td>\n",
       "    </tr>\n",
       "    <tr>\n",
       "      <th>1</th>\n",
       "      <td>Athens</td>\n",
       "      <td>Athens</td>\n",
       "    </tr>\n",
       "    <tr>\n",
       "      <th>2</th>\n",
       "      <td>Ayia-napa</td>\n",
       "      <td>the-republic-of-cyprus/Agia-napa</td>\n",
       "    </tr>\n",
       "    <tr>\n",
       "      <th>3</th>\n",
       "      <td>Bangkok</td>\n",
       "      <td>Bangkok</td>\n",
       "    </tr>\n",
       "    <tr>\n",
       "      <th>4</th>\n",
       "      <td>Barcelona</td>\n",
       "      <td>Barcelona</td>\n",
       "    </tr>\n",
       "  </tbody>\n",
       "</table>\n",
       "</div>"
      ],
      "text/plain": [
       "        city                           city_LP\n",
       "0    Antalya       mediterranean-coast/antalya\n",
       "1     Athens                            Athens\n",
       "2  Ayia-napa  the-republic-of-cyprus/Agia-napa\n",
       "3    Bangkok                           Bangkok\n",
       "4  Barcelona                         Barcelona"
      ]
     },
     "execution_count": 74,
     "metadata": {},
     "output_type": "execute_result"
    }
   ],
   "source": [
    "df = pd.read_csv(\"C:\\\\Users\\\\odeya\\\\Desktop\\\\TaskPython\\\\destinations_LP_crawler_Ex5 (1).csv\", encoding='latin-1')\n",
    "df.head()"
   ]
  },
  {
   "cell_type": "markdown",
   "id": "d70eb96e",
   "metadata": {},
   "source": [
    "# Get country\n"
   ]
  },
  {
   "cell_type": "code",
   "execution_count": 75,
   "id": "f3bcd85a",
   "metadata": {},
   "outputs": [],
   "source": [
    "def get_country(city):\n",
    "    api_key = 'api_key'\n",
    "    try:\n",
    "        url = \"https://maps.googleapis.com/maps/api/geocode/json?address=%s&key=%s\" % (city,api_key)\n",
    "        response = requests.get(url)\n",
    "        if response.status_code != 200:\n",
    "            return 'Error - API request didnt work'\n",
    "        else:\n",
    "            country = response.json()['results'][0]['formatted_address'].split(\",\")[-1]\n",
    "            return country\n",
    "    except:\n",
    "        return 'Error in get_country func'"
   ]
  },
  {
   "cell_type": "markdown",
   "id": "694d4f14",
   "metadata": {},
   "source": [
    "# Get description of the city"
   ]
  },
  {
   "cell_type": "code",
   "execution_count": 76,
   "id": "a8f35d44",
   "metadata": {},
   "outputs": [],
   "source": [
    "def get_description(df):\n",
    "    desc = []\n",
    "    i = 0\n",
    "    for i in range(len(df)):\n",
    "        try:\n",
    "            link = 'https://www.lonelyplanet.com/' + (df[\"country\"][i]).strip() + \"/\" + df[\"city_LP\"][i]\n",
    "            response = requests.get(link)\n",
    "            if response.status_code != 200:\n",
    "                desc.append('Error - scrapping didnt work')\n",
    "            else:\n",
    "                soup = BeautifulSoup(response.content, 'html.parser')\n",
    "                description = soup.find(\"div\",class_=\"readMore_content___5EuR relative overflow-hidden max-h-96 is-max wysiwyg\").get_text()\n",
    "                desc.append(description)\n",
    "        except:\n",
    "            desc.append('Error in get_description func')\n",
    "    return desc"
   ]
  },
  {
   "cell_type": "markdown",
   "id": "b64f1ec3",
   "metadata": {},
   "source": [
    "# Main"
   ]
  },
  {
   "cell_type": "code",
   "execution_count": 72,
   "id": "9526d9cf",
   "metadata": {},
   "outputs": [
    {
     "name": "stdout",
     "output_type": "stream",
     "text": [
      "         City       Country                                        Description\n",
      "0     Antalya        Turkey  Once seen simply as the gateway to the Turkish...\n",
      "1      Athens        Greece  With equal measures of grunge and grace, Athen...\n",
      "2   Ayia-napa        Cyprus  Endless blue-sky days and a coastline riddled ...\n",
      "3     Bangkok      Thailand  Same same, but different. This Thailish T-shir...\n",
      "4   Barcelona         Spain  Barcelona is an enchanting seaside city with b...\n",
      "..        ...           ...                                                ...\n",
      "71     Venice         Italy  Imagine the audacity of building a city of mar...\n",
      "72     Vienna       Austria  Baroque streetscapes and imperial palaces set ...\n",
      "73     Warsaw        Poland  A phoenix arisen from the ashes, Poland's capi...\n",
      "74  Zakynthos        Greece  Zakynthos, also known by its Italian name Zant...\n",
      "75     Zurich   Switzerland  Culturally vibrant, efficiently run and attrac...\n",
      "\n",
      "[76 rows x 3 columns]\n"
     ]
    }
   ],
   "source": [
    "df['country'] = (df['city'].apply(get_country))\n",
    "\n",
    "df.loc[22,\"country\"]=\"poland\"\n",
    "df.loc[37,\"country\"]=\"ukraine\"\n",
    "df.loc[56,\"country\"]=\"ukraine\"\n",
    "\n",
    "df['Description'] = get_description(df)\n",
    "\n",
    "df_final = pd.DataFrame()\n",
    "df_final['City'] = df['city']\n",
    "df_final['Country'] = df['country']\n",
    "df_final['Description'] = df['Description']\n",
    "\n",
    "print(df_final)\n",
    "df_final.to_csv(\"C:/Users/odeya/Desktop/TaskPython/LP_destinations.csv\", index = False, header=True)"
   ]
  }
 ],
 "metadata": {
  "kernelspec": {
   "display_name": "Python 3 (ipykernel)",
   "language": "python",
   "name": "python3"
  },
  "language_info": {
   "codemirror_mode": {
    "name": "ipython",
    "version": 3
   },
   "file_extension": ".py",
   "mimetype": "text/x-python",
   "name": "python",
   "nbconvert_exporter": "python",
   "pygments_lexer": "ipython3",
   "version": "3.9.7"
  }
 },
 "nbformat": 4,
 "nbformat_minor": 5
}
